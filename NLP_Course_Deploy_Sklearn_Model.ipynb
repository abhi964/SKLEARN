{
  "nbformat": 4,
  "nbformat_minor": 0,
  "metadata": {
    "colab": {
      "name": "NLP Course Deploy Sklearn Model.ipynb",
      "provenance": [],
      "collapsed_sections": []
    },
    "kernelspec": {
      "name": "python3",
      "display_name": "Python 3"
    },
    "language_info": {
      "name": "python"
    }
  },
  "cells": [
    {
      "cell_type": "markdown",
      "source": [
        "\n",
        "**Deploying Machine Learning Model on Streamlit Cloud**\n",
        "\n",
        "1.   Saving and Loading Sklearn Pipeline (Or Model)\n",
        "2.   Streamlit Introduction\n",
        "3.   Integrate Sklearn Model Into Streamlit\n",
        "4.   Push Inetegated Code to Github Repo\n",
        "5.   Deploy Github Repo into Streamlit Cloud\n",
        "\n",
        "\n",
        "\n",
        "\n"
      ],
      "metadata": {
        "id": "7T_pPR93ODga"
      }
    },
    {
      "cell_type": "code",
      "source": [
        ""
      ],
      "metadata": {
        "id": "AHAIlR3aNbfQ"
      },
      "execution_count": null,
      "outputs": []
    },
    {
      "cell_type": "markdown",
      "source": [
        "**Streamlit Code**\n",
        "https://github.com/PradipNichite/sklearn_streamlit"
      ],
      "metadata": {
        "id": "dByfwsU3Nb3d"
      }
    },
    {
      "cell_type": "code",
      "execution_count": null,
      "metadata": {
        "id": "-UMWPmLZL9_-"
      },
      "outputs": [],
      "source": [
        "!python -m spacy download en_core_web_sm"
      ]
    },
    {
      "cell_type": "code",
      "source": [
        "import numpy as np\n",
        "import pandas as pd \n",
        "\n",
        "# ## For tokenization and data pre-processing \n",
        "from sklearn.feature_extraction.text import TfidfVectorizer\n",
        "from sklearn.pipeline import Pipeline\n",
        "# ## fro cleaning the data \n",
        "import string\n",
        "import spacy\n",
        "from sklearn import metrics"
      ],
      "metadata": {
        "id": "JnV3hFRKMlp7"
      },
      "execution_count": 2,
      "outputs": []
    },
    {
      "cell_type": "code",
      "source": [
        "np.random.seed(42)"
      ],
      "metadata": {
        "id": "s756lXy7Ms-Z"
      },
      "execution_count": 3,
      "outputs": []
    },
    {
      "cell_type": "code",
      "source": [
        "data = pd.read_csv(\"SMSSpamCollection.txt\", sep = \"\\t\", names=[\"label\", \"message\"])\n",
        "data['label'] = data['label'].map({'ham':0,'spam':1})\n",
        "data_1 = data[data['label']==1]\n",
        "data_0 = data[data['label']==0]\n",
        "sample_count = len(data[data['label']==1])\n",
        "data_0 = data_0.sample(sample_count, replace=True, random_state=1)\n",
        "data_balanced = pd.concat([data_0,data_1], axis=0)\n",
        "data = data_balanced\n",
        "data.head()"
      ],
      "metadata": {
        "colab": {
          "base_uri": "https://localhost:8080/",
          "height": 206
        },
        "id": "OxwBXKKrMvlO",
        "outputId": "ea7cb253-0273-4028-b26c-2f61d0f4937e"
      },
      "execution_count": 4,
      "outputs": [
        {
          "output_type": "execute_result",
          "data": {
            "text/plain": [
              "      label                                            message\n",
              "278       0                     Awesome, I'll see you in a bit\n",
              "4603      0  Hey j! r u feeling any better, hopeSo hunny. i...\n",
              "1066      0                          No my mum went 2 dentist.\n",
              "3195      0  And you! Will expect you whenever you text! Ho...\n",
              "3341      0  Like I made him throw up when we were smoking ..."
            ],
            "text/html": [
              "\n",
              "  <div id=\"df-84ba3629-4a37-4f38-8e1c-34be5a542677\">\n",
              "    <div class=\"colab-df-container\">\n",
              "      <div>\n",
              "<style scoped>\n",
              "    .dataframe tbody tr th:only-of-type {\n",
              "        vertical-align: middle;\n",
              "    }\n",
              "\n",
              "    .dataframe tbody tr th {\n",
              "        vertical-align: top;\n",
              "    }\n",
              "\n",
              "    .dataframe thead th {\n",
              "        text-align: right;\n",
              "    }\n",
              "</style>\n",
              "<table border=\"1\" class=\"dataframe\">\n",
              "  <thead>\n",
              "    <tr style=\"text-align: right;\">\n",
              "      <th></th>\n",
              "      <th>label</th>\n",
              "      <th>message</th>\n",
              "    </tr>\n",
              "  </thead>\n",
              "  <tbody>\n",
              "    <tr>\n",
              "      <th>278</th>\n",
              "      <td>0</td>\n",
              "      <td>Awesome, I'll see you in a bit</td>\n",
              "    </tr>\n",
              "    <tr>\n",
              "      <th>4603</th>\n",
              "      <td>0</td>\n",
              "      <td>Hey j! r u feeling any better, hopeSo hunny. i...</td>\n",
              "    </tr>\n",
              "    <tr>\n",
              "      <th>1066</th>\n",
              "      <td>0</td>\n",
              "      <td>No my mum went 2 dentist.</td>\n",
              "    </tr>\n",
              "    <tr>\n",
              "      <th>3195</th>\n",
              "      <td>0</td>\n",
              "      <td>And you! Will expect you whenever you text! Ho...</td>\n",
              "    </tr>\n",
              "    <tr>\n",
              "      <th>3341</th>\n",
              "      <td>0</td>\n",
              "      <td>Like I made him throw up when we were smoking ...</td>\n",
              "    </tr>\n",
              "  </tbody>\n",
              "</table>\n",
              "</div>\n",
              "      <button class=\"colab-df-convert\" onclick=\"convertToInteractive('df-84ba3629-4a37-4f38-8e1c-34be5a542677')\"\n",
              "              title=\"Convert this dataframe to an interactive table.\"\n",
              "              style=\"display:none;\">\n",
              "        \n",
              "  <svg xmlns=\"http://www.w3.org/2000/svg\" height=\"24px\"viewBox=\"0 0 24 24\"\n",
              "       width=\"24px\">\n",
              "    <path d=\"M0 0h24v24H0V0z\" fill=\"none\"/>\n",
              "    <path d=\"M18.56 5.44l.94 2.06.94-2.06 2.06-.94-2.06-.94-.94-2.06-.94 2.06-2.06.94zm-11 1L8.5 8.5l.94-2.06 2.06-.94-2.06-.94L8.5 2.5l-.94 2.06-2.06.94zm10 10l.94 2.06.94-2.06 2.06-.94-2.06-.94-.94-2.06-.94 2.06-2.06.94z\"/><path d=\"M17.41 7.96l-1.37-1.37c-.4-.4-.92-.59-1.43-.59-.52 0-1.04.2-1.43.59L10.3 9.45l-7.72 7.72c-.78.78-.78 2.05 0 2.83L4 21.41c.39.39.9.59 1.41.59.51 0 1.02-.2 1.41-.59l7.78-7.78 2.81-2.81c.8-.78.8-2.07 0-2.86zM5.41 20L4 18.59l7.72-7.72 1.47 1.35L5.41 20z\"/>\n",
              "  </svg>\n",
              "      </button>\n",
              "      \n",
              "  <style>\n",
              "    .colab-df-container {\n",
              "      display:flex;\n",
              "      flex-wrap:wrap;\n",
              "      gap: 12px;\n",
              "    }\n",
              "\n",
              "    .colab-df-convert {\n",
              "      background-color: #E8F0FE;\n",
              "      border: none;\n",
              "      border-radius: 50%;\n",
              "      cursor: pointer;\n",
              "      display: none;\n",
              "      fill: #1967D2;\n",
              "      height: 32px;\n",
              "      padding: 0 0 0 0;\n",
              "      width: 32px;\n",
              "    }\n",
              "\n",
              "    .colab-df-convert:hover {\n",
              "      background-color: #E2EBFA;\n",
              "      box-shadow: 0px 1px 2px rgba(60, 64, 67, 0.3), 0px 1px 3px 1px rgba(60, 64, 67, 0.15);\n",
              "      fill: #174EA6;\n",
              "    }\n",
              "\n",
              "    [theme=dark] .colab-df-convert {\n",
              "      background-color: #3B4455;\n",
              "      fill: #D2E3FC;\n",
              "    }\n",
              "\n",
              "    [theme=dark] .colab-df-convert:hover {\n",
              "      background-color: #434B5C;\n",
              "      box-shadow: 0px 1px 3px 1px rgba(0, 0, 0, 0.15);\n",
              "      filter: drop-shadow(0px 1px 2px rgba(0, 0, 0, 0.3));\n",
              "      fill: #FFFFFF;\n",
              "    }\n",
              "  </style>\n",
              "\n",
              "      <script>\n",
              "        const buttonEl =\n",
              "          document.querySelector('#df-84ba3629-4a37-4f38-8e1c-34be5a542677 button.colab-df-convert');\n",
              "        buttonEl.style.display =\n",
              "          google.colab.kernel.accessAllowed ? 'block' : 'none';\n",
              "\n",
              "        async function convertToInteractive(key) {\n",
              "          const element = document.querySelector('#df-84ba3629-4a37-4f38-8e1c-34be5a542677');\n",
              "          const dataTable =\n",
              "            await google.colab.kernel.invokeFunction('convertToInteractive',\n",
              "                                                     [key], {});\n",
              "          if (!dataTable) return;\n",
              "\n",
              "          const docLinkHtml = 'Like what you see? Visit the ' +\n",
              "            '<a target=\"_blank\" href=https://colab.research.google.com/notebooks/data_table.ipynb>data table notebook</a>'\n",
              "            + ' to learn more about interactive tables.';\n",
              "          element.innerHTML = '';\n",
              "          dataTable['output_type'] = 'display_data';\n",
              "          await google.colab.output.renderOutput(dataTable, element);\n",
              "          const docLink = document.createElement('div');\n",
              "          docLink.innerHTML = docLinkHtml;\n",
              "          element.appendChild(docLink);\n",
              "        }\n",
              "      </script>\n",
              "    </div>\n",
              "  </div>\n",
              "  "
            ]
          },
          "metadata": {},
          "execution_count": 4
        }
      ]
    },
    {
      "cell_type": "code",
      "source": [
        "nlp = spacy.load(\"en_core_web_sm\")"
      ],
      "metadata": {
        "id": "soq1B54gNSEm"
      },
      "execution_count": 5,
      "outputs": []
    },
    {
      "cell_type": "code",
      "source": [
        "stop_words = nlp.Defaults.stop_words\n",
        "print(stop_words)\n",
        "punctuations = string.punctuation\n",
        "punctuations"
      ],
      "metadata": {
        "colab": {
          "base_uri": "https://localhost:8080/",
          "height": 74
        },
        "id": "Ubu3bbN7NKFA",
        "outputId": "5344b588-84a7-405a-e832-32baf9314cdb"
      },
      "execution_count": 6,
      "outputs": [
        {
          "output_type": "stream",
          "name": "stdout",
          "text": [
            "{'hence', 'against', 'by', 'nothing', 'since', 'can', 'over', 'may', 'twelve', 'meanwhile', 'been', 'therefore', 'indeed', 'below', 'did', 'but', 'and', 'others', 'after', 'seeming', 'another', 'one', 'that', 'thence', 'yet', 'either', 'though', 'whom', 'least', 'only', 'on', '‘m', 'mostly', 'wherever', 'would', 'everyone', 'do', 'through', 'behind', 'besides', 'them', 'six', 'elsewhere', 'we', 'because', 'else', 'empty', 'further', 'hereby', 'nobody', 'side', '‘s', 'thru', 'mine', 'ten', 'then', 'full', 'from', 'serious', 'there', 'he', 'most', 'put', 'via', 'thereby', 'why', 'eleven', 'first', 'what', 'during', 'himself', 'which', 'hereupon', 'seems', 'few', 'other', 'nor', 'afterwards', 'everything', '’s', 'thereafter', 'out', 'anything', 'wherein', \"'d\", 'regarding', 'no', 'for', 'between', \"'ll\", 'twenty', 'whereas', 'it', 'whenever', 'his', 'if', 'top', 'per', 'seem', 'former', 'someone', 'along', 'whereafter', 'two', 'throughout', 'where', 'yourself', 'around', 'both', 'doing', 'rather', 'above', 'sixty', 'really', 'various', 'forty', '’re', 'cannot', 'you', 'still', 'towards', 'has', 'under', \"'ve\", 'am', 'does', 'except', 'noone', '’d', 'onto', 'made', 'are', 'not', 'third', 'anyway', 'the', 'yourselves', 'anyone', 'be', '‘ve', 'latter', 'front', 'sometime', 'somehow', 'several', 'became', \"'re\", 'me', 'becomes', 'however', 'their', 'this', 'how', 'anywhere', 'five', 'hundred', 'thereupon', 'hereafter', 'well', 'bottom', 'without', 'at', 'four', '’ll', 'none', 'often', 'your', 'now', 'ever', 'him', 'otherwise', 'to', 'who', 'becoming', 'amount', 'such', 'upon', 'formerly', 'keep', 'whether', 'neither', 'see', 'themselves', 'therein', 'moreover', 'say', 'due', 'being', 'should', 'although', 'each', 're', 'many', \"'m\", 'fifteen', 'ourselves', '‘d', 'amongst', 'every', 'when', 'of', 'until', 'three', 'than', 'yours', 'show', 'move', 'whoever', 'as', 'quite', 'take', 'less', 'itself', 'whatever', 'beyond', 'beside', 'here', 'done', 'about', 'perhaps', 'hers', 'an', 'something', 'toward', 'please', 'always', 'so', 'will', 'with', 'get', 'unless', 'my', 'a', 'together', 'same', 'n‘t', 'namely', 'somewhere', 'they', 'is', 'in', 'nine', 'was', 'i', '‘re', 'more', 'across', 'n’t', 'much', 'anyhow', 'any', 'never', 'once', \"n't\", 'everywhere', 'just', 'she', 'down', 'those', 'while', 'some', 'thus', 'whereby', 'alone', 'become', 'next', 'might', 'within', 'our', 'could', 'fifty', 'ca', 'all', 'almost', 'us', 'whose', 'herein', 'used', 'give', 'very', 'whither', 'must', 'into', 'name', '’ve', 'already', 'had', 'or', 'own', 'before', '’m', 'beforehand', 'myself', 'were', 'have', 'her', 'nowhere', 'too', 'whence', 'up', 'also', 'its', 'eight', 'among', '‘ll', 'last', 'call', 'back', 'whole', 'latterly', 'seemed', 'nevertheless', 'herself', 'sometimes', 'off', 'using', 'these', 'even', 'make', 'ours', 'enough', 'again', 'part', 'go', 'whereupon', \"'s\"}\n"
          ]
        },
        {
          "output_type": "execute_result",
          "data": {
            "text/plain": [
              "'!\"#$%&\\'()*+,-./:;<=>?@[\\\\]^_`{|}~'"
            ],
            "application/vnd.google.colaboratory.intrinsic+json": {
              "type": "string"
            }
          },
          "metadata": {},
          "execution_count": 6
        }
      ]
    },
    {
      "cell_type": "code",
      "source": [
        "# Creating our tokenizer function\n",
        "def spacy_tokenizer(sentence):\n",
        "    # Creating our token object, which is used to create documents with linguistic annotations.\n",
        "    doc = nlp(sentence)\n",
        "\n",
        "    # print(doc)\n",
        "\n",
        "    # Lemmatizing each token and converting each token into lowercase\n",
        "    mytokens = [ word.lemma_.lower().strip() for word in doc ]\n",
        "\n",
        "    # print(mytokens)\n",
        "\n",
        "    # Removing stop words\n",
        "    mytokens = [ word for word in mytokens if word not in stop_words and word not in punctuations ]\n",
        "\n",
        "    # return preprocessed list of tokens\n",
        "    return mytokens"
      ],
      "metadata": {
        "id": "SLsl2bokNDt5"
      },
      "execution_count": 7,
      "outputs": []
    },
    {
      "cell_type": "code",
      "source": [
        "tfidf_vector = TfidfVectorizer(tokenizer = spacy_tokenizer)"
      ],
      "metadata": {
        "id": "mTPlfRbkNIxo"
      },
      "execution_count": 8,
      "outputs": []
    },
    {
      "cell_type": "code",
      "source": [
        "from sklearn.model_selection import train_test_split\n",
        "\n",
        "X = data['message'] # the features we want to analyze\n",
        "ylabels = data['label'] # the labels, or answers, we want to test against\n",
        "\n",
        "X_train, X_test, y_train, y_test = train_test_split(X, ylabels, test_size=0.2)"
      ],
      "metadata": {
        "id": "MX2PrV7ZNUlA"
      },
      "execution_count": 9,
      "outputs": []
    },
    {
      "cell_type": "code",
      "source": [
        "from sklearn.ensemble import RandomForestClassifier\n",
        "classifier = RandomForestClassifier()"
      ],
      "metadata": {
        "id": "p7rUO7nqNZja"
      },
      "execution_count": 10,
      "outputs": []
    },
    {
      "cell_type": "code",
      "source": [
        "pipe = Pipeline([ ('vectorizer', tfidf_vector),\n",
        "                 ('classifier', classifier)])\n",
        "\n",
        "# model generation\n",
        "pipe.fit(X_train,y_train)"
      ],
      "metadata": {
        "colab": {
          "base_uri": "https://localhost:8080/"
        },
        "id": "tyKSiP4KNcpk",
        "outputId": "d59cde16-bc14-4cc8-e838-92de4bc715ac"
      },
      "execution_count": 11,
      "outputs": [
        {
          "output_type": "execute_result",
          "data": {
            "text/plain": [
              "Pipeline(steps=[('vectorizer',\n",
              "                 TfidfVectorizer(tokenizer=<function spacy_tokenizer at 0x7efab4978050>)),\n",
              "                ('classifier', RandomForestClassifier())])"
            ]
          },
          "metadata": {},
          "execution_count": 11
        }
      ]
    },
    {
      "cell_type": "code",
      "source": [
        "predicted = pipe.predict(X_test)\n",
        "\n",
        "# Model Accuracy\n",
        "print(\"Logistic Regression Accuracy:\",metrics.accuracy_score(y_test, predicted))\n",
        "print(\"Logistic Regression Precision:\",metrics.precision_score(y_test, predicted))\n",
        "print(\"Logistic Regression Recall:\",metrics.recall_score(y_test, predicted))"
      ],
      "metadata": {
        "colab": {
          "base_uri": "https://localhost:8080/"
        },
        "id": "wfAdGje8Nd5I",
        "outputId": "b3a04306-bd0d-4407-ef7e-f833b92a80ed"
      },
      "execution_count": 12,
      "outputs": [
        {
          "output_type": "stream",
          "name": "stdout",
          "text": [
            "Logistic Regression Accuracy: 0.9364548494983278\n",
            "Logistic Regression Precision: 0.9927007299270073\n",
            "Logistic Regression Recall: 0.8831168831168831\n"
          ]
        }
      ]
    },
    {
      "cell_type": "code",
      "source": [
        "pipe.predict(['Free entry pass'])"
      ],
      "metadata": {
        "colab": {
          "base_uri": "https://localhost:8080/"
        },
        "id": "HFLoMVKjNjCo",
        "outputId": "aefbe90a-aa4b-47dc-ef73-9b99bb903c3c"
      },
      "execution_count": 13,
      "outputs": [
        {
          "output_type": "execute_result",
          "data": {
            "text/plain": [
              "array([0])"
            ]
          },
          "metadata": {},
          "execution_count": 13
        }
      ]
    },
    {
      "cell_type": "code",
      "source": [
        "pipe.predict(['win lottery'])"
      ],
      "metadata": {
        "colab": {
          "base_uri": "https://localhost:8080/"
        },
        "id": "kr6peFOFNlvC",
        "outputId": "95078451-225a-4594-b330-64e7b0fb1989"
      },
      "execution_count": 14,
      "outputs": [
        {
          "output_type": "execute_result",
          "data": {
            "text/plain": [
              "array([1])"
            ]
          },
          "metadata": {},
          "execution_count": 14
        }
      ]
    },
    {
      "cell_type": "code",
      "source": [
        "pipe.predict(['I am waiting to get response from you'])"
      ],
      "metadata": {
        "colab": {
          "base_uri": "https://localhost:8080/"
        },
        "id": "q3Oay9BwNnOF",
        "outputId": "7adcd095-402e-4d8c-cdd8-b66c5cc0bc3a"
      },
      "execution_count": 15,
      "outputs": [
        {
          "output_type": "execute_result",
          "data": {
            "text/plain": [
              "array([0])"
            ]
          },
          "metadata": {},
          "execution_count": 15
        }
      ]
    },
    {
      "cell_type": "markdown",
      "source": [
        "**Save and Load Sklearn Pipeline (Or Model)**"
      ],
      "metadata": {
        "id": "pkmvJqV8Nq3w"
      }
    },
    {
      "cell_type": "code",
      "source": [
        "from joblib import dump, load"
      ],
      "metadata": {
        "id": "cLsROE2YNvPq"
      },
      "execution_count": 17,
      "outputs": []
    },
    {
      "cell_type": "code",
      "source": [
        "dump(pipe, 'pipeline.joblib') "
      ],
      "metadata": {
        "colab": {
          "base_uri": "https://localhost:8080/"
        },
        "id": "DNlzI1b_Nwwp",
        "outputId": "4eb82cd8-746b-48e4-96d0-21005495a942"
      },
      "execution_count": 18,
      "outputs": [
        {
          "output_type": "execute_result",
          "data": {
            "text/plain": [
              "['pipeline.joblib']"
            ]
          },
          "metadata": {},
          "execution_count": 18
        }
      ]
    },
    {
      "cell_type": "code",
      "source": [
        "pipeline = load('pipeline.joblib')"
      ],
      "metadata": {
        "id": "s2RlQUlwNyCS"
      },
      "execution_count": 19,
      "outputs": []
    },
    {
      "cell_type": "code",
      "source": [
        "pipeline"
      ],
      "metadata": {
        "colab": {
          "base_uri": "https://localhost:8080/"
        },
        "id": "pYYjxzFO0L2n",
        "outputId": "7af19d9b-2050-480f-ee5f-cdc0ca9d505f"
      },
      "execution_count": 20,
      "outputs": [
        {
          "output_type": "execute_result",
          "data": {
            "text/plain": [
              "Pipeline(steps=[('vectorizer',\n",
              "                 TfidfVectorizer(tokenizer=<function spacy_tokenizer at 0x7efab4978050>)),\n",
              "                ('classifier', RandomForestClassifier())])"
            ]
          },
          "metadata": {},
          "execution_count": 20
        }
      ]
    },
    {
      "cell_type": "code",
      "source": [
        "pipeline.predict(['win lottery'])"
      ],
      "metadata": {
        "colab": {
          "base_uri": "https://localhost:8080/"
        },
        "id": "2nFS_CdoNzPn",
        "outputId": "16012273-2bee-4f00-ed46-1ec975ce4182"
      },
      "execution_count": 21,
      "outputs": [
        {
          "output_type": "execute_result",
          "data": {
            "text/plain": [
              "array([1])"
            ]
          },
          "metadata": {},
          "execution_count": 21
        }
      ]
    },
    {
      "cell_type": "code",
      "source": [
        ""
      ],
      "metadata": {
        "id": "PPfTSnfgN1Kn"
      },
      "execution_count": null,
      "outputs": []
    }
  ]
}